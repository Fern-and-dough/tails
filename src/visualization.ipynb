{
 "cells": [
  {
   "cell_type": "code",
   "execution_count": 24,
   "metadata": {},
   "outputs": [],
   "source": [
    "%matplotlib inline\n",
    "\n",
    "import matplotlib\n",
    "import numpy as np\n",
    "import csv\n",
    "import matplotlib.pyplot as plt\n",
    "\n",
    "matplotlib.rcParams['figure.figsize'] = [10., 5.]\n",
    "matplotlib.rcParams[\"font.size\"] = \"16\"\n",
    "matplotlib.rcParams[\"lines.linewidth\"] = \"3\"\n",
    "matplotlib.rcParams[\"axes.grid\"] = True"
   ]
  },
  {
   "cell_type": "code",
   "execution_count": 25,
   "metadata": {},
   "outputs": [],
   "source": [
    "# Test-Test Block\n",
    "from mock_tails import GPIO\n",
    "\n",
    "GPIO.setmode(\"BOARD\")\n",
    "\n",
    "for gpio in [7, 8, 11, 12]:\n",
    "    GPIO.setup(gpio, \"OUT\", 0)\n",
    "    p = GPIO.PWM(gpio, 50)\n",
    "    p.start(0)\n",
    "    for i in range(0, 5): \n",
    "        p.ChangeDutyCycle(i)\n",
    "    p.stop()"
   ]
  },
  {
   "cell_type": "code",
   "execution_count": 43,
   "metadata": {},
   "outputs": [
    {
     "data": {
      "image/png": "[encoded data removed]",
      "text/plain": [
       "<Figure size 720x360 with 1 Axes>"
      ]
     },
     "metadata": {
      "needs_background": "light"
     },
     "output_type": "display_data"
    }
   ],
   "source": [
    "# Plot Results\n",
    "\n",
    "pwms = {\"ail\": \"pwm_7.csv\", \n",
    "        \"ele\": \"pwm_8.csv\",\n",
    "        \"thr\": \"pwm_11.csv\",\n",
    "        \"rud\": \"pwm_12.csv\"}\n",
    "\n",
    "mintime = None\n",
    "\n",
    "for pwm in pwms:\n",
    "    dat = []\n",
    "    f = open(pwms[pwm], 'r')\n",
    "    c = csv.DictReader(f)\n",
    "    for row in c:\n",
    "        if mintime is None:\n",
    "            mintime = float(row['time'])\n",
    "        elif float(row['time']) < mintime:\n",
    "            mintime = float(row['time'])\n",
    "        break\n",
    "        \n",
    "\n",
    "\n",
    "for pwm in pwms:\n",
    "    dat = []\n",
    "    \n",
    "    f = open(pwms[pwm], 'r')\n",
    "    c = csv.DictReader(f)\n",
    "    for row in c:\n",
    "        dat.append([float(row['time']), int(row['duty'])])\n",
    "\n",
    "    xy = np.array(dat)\n",
    "        \n",
    "    x = xy[:,0] - mintime\n",
    "    y = xy[:,1]\n",
    "        \n",
    "    plt.plot(x, y)\n",
    "    \n",
    "f = open(\"fsm.csv\", 'r')\n",
    "c = csv.DictReader(f)\n",
    "for row in c:\n",
    "    if mintime is None:\n",
    "        mintime = float(row['time'])\n",
    "    elif float(row['time']) < mintime:\n",
    "        mintime = float(row['time'])\n",
    "        \n",
    "    plt.annotate(row['state'], (float(row['time']), -0.0), arrowprops=dict(facecolor='black', shrink=0.05))\n",
    "\n",
    "\n",
    "    \n",
    "plt.legend([pwm for pwm in pwms])\n",
    "plt.title(\"Duty Cycles\")\n",
    "plt.show()"
   ]
  },
  {
   "cell_type": "code",
   "execution_count": null,
   "metadata": {},
   "outputs": [],
   "source": []
  }
 ],
 "metadata": {
  "kernelspec": {
   "display_name": "Python 3",
   "language": "python",
   "name": "python3"
  },
  "language_info": {
   "codemirror_mode": {
    "name": "ipython",
    "version": 3
   },
   "file_extension": ".py",
   "mimetype": "text/x-python",
   "name": "python",
   "nbconvert_exporter": "python",
   "pygments_lexer": "ipython3",
   "version": "3.7.1"
  }
 },
 "nbformat": 4,
 "nbformat_minor": 2
}
